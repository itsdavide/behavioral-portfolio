{
 "cells": [
  {
   "cell_type": "code",
   "execution_count": 1,
   "id": "f043f5eb-40c6-43a9-80be-0ca51c1c4af5",
   "metadata": {},
   "outputs": [],
   "source": [
    "# Import libraries\n",
    "import numpy as np\n",
    "import pandas as pd\n",
    "import yfinance as yf"
   ]
  },
  {
   "cell_type": "code",
   "execution_count": 2,
   "id": "0c8a3cdb-33d9-4b67-a777-22f11125707f",
   "metadata": {},
   "outputs": [
    {
     "name": "stdout",
     "output_type": "stream",
     "text": [
      "[*********************100%***********************]  1 of 1 completed\n"
     ]
    },
    {
     "data": {
      "text/plain": [
       "Date\n",
       "2023-07-03    120.559998\n",
       "2023-07-05    122.629997\n",
       "2023-07-06    120.930000\n",
       "2023-07-07    120.139999\n",
       "2023-07-10    116.870003\n",
       "                 ...    \n",
       "2023-12-22    142.720001\n",
       "2023-12-26    142.820007\n",
       "2023-12-27    141.440002\n",
       "2023-12-28    141.279999\n",
       "2023-12-29    140.929993\n",
       "Name: Close, Length: 126, dtype: float64"
      ]
     },
     "execution_count": 2,
     "metadata": {},
     "output_type": "execute_result"
    }
   ],
   "source": [
    "# Download GOOG historical data\n",
    "hist_data = yf.download(['GOOG'], start='2023-07-01', end='2023-12-30')['Close']\n",
    "hist_data"
   ]
  },
  {
   "cell_type": "code",
   "execution_count": 3,
   "id": "3e0bac39-dde4-47af-a020-c0924d2a6f75",
   "metadata": {},
   "outputs": [
    {
     "data": {
      "text/plain": [
       "Date\n",
       "2023-07-05    0.017024\n",
       "2023-07-06   -0.013960\n",
       "2023-07-07   -0.006554\n",
       "2023-07-10   -0.027595\n",
       "2023-07-11    0.007162\n",
       "                ...   \n",
       "2023-12-22    0.006467\n",
       "2023-12-26    0.000700\n",
       "2023-12-27   -0.009710\n",
       "2023-12-28   -0.001132\n",
       "2023-12-29   -0.002480\n",
       "Name: Close, Length: 125, dtype: float64"
      ]
     },
     "execution_count": 3,
     "metadata": {},
     "output_type": "execute_result"
    }
   ],
   "source": [
    "# Compute daily log-returns\n",
    "log_rets = np.log(hist_data/hist_data.shift(1))\n",
    "log_rets = log_rets.dropna()\n",
    "log_rets"
   ]
  },
  {
   "cell_type": "code",
   "execution_count": 4,
   "id": "c6810a55-4bd1-4019-98c1-f09fe9b70d74",
   "metadata": {},
   "outputs": [
    {
     "data": {
      "text/plain": [
       "0.017525001793481914"
      ]
     },
     "execution_count": 4,
     "metadata": {},
     "output_type": "execute_result"
    }
   ],
   "source": [
    "# Compute the sample standard deviation of daily log-returns\n",
    "import statistics as stat\n",
    "vol_day = stat.stdev(log_rets)\n",
    "vol_day"
   ]
  },
  {
   "cell_type": "code",
   "execution_count": 5,
   "id": "7f4e3f90-67d1-47cc-9b39-d7be74294517",
   "metadata": {},
   "outputs": [
    {
     "data": {
      "text/plain": [
       "0.2770946083296932"
      ]
     },
     "execution_count": 5,
     "metadata": {},
     "output_type": "execute_result"
    }
   ],
   "source": [
    "# Compute volatility per year\n",
    "vol_year = vol_day * np.sqrt(250)\n",
    "vol_year"
   ]
  },
  {
   "cell_type": "code",
   "execution_count": 6,
   "id": "cbabb2c1-dc33-4091-95e5-90f5ab351d2e",
   "metadata": {},
   "outputs": [
    {
     "data": {
      "text/plain": [
       "Date\n",
       "2023-07-05    0.017024\n",
       "2023-07-11    0.007162\n",
       "2023-07-12    0.016096\n",
       "2023-07-13    0.042633\n",
       "2023-07-14    0.006945\n",
       "                ...   \n",
       "2023-12-19    0.006611\n",
       "2023-12-20    0.011233\n",
       "2023-12-21    0.015207\n",
       "2023-12-22    0.006467\n",
       "2023-12-26    0.000700\n",
       "Name: Close, Length: 68, dtype: float64"
      ]
     },
     "execution_count": 6,
     "metadata": {},
     "output_type": "execute_result"
    }
   ],
   "source": [
    "# Count non-negative log-returns\n",
    "log_rets[log_rets >= 0]"
   ]
  },
  {
   "cell_type": "code",
   "execution_count": 7,
   "id": "76930497-bcf7-4604-aef6-2363219a2037",
   "metadata": {},
   "outputs": [
    {
     "data": {
      "text/plain": [
       "0.544"
      ]
     },
     "execution_count": 7,
     "metadata": {},
     "output_type": "execute_result"
    }
   ],
   "source": [
    "# Estimate parameter p\n",
    "p = len(log_rets[log_rets >= 0]) / len(log_rets)\n",
    "p"
   ]
  },
  {
   "cell_type": "code",
   "execution_count": 8,
   "id": "40fcc8f1-b63e-48c7-9b08-51c783551523",
   "metadata": {},
   "outputs": [],
   "source": [
    "# Estimate parameter sigma\n",
    "sigma = vol_year"
   ]
  },
  {
   "cell_type": "code",
   "execution_count": 9,
   "id": "4caa0756-f87f-4448-816f-9acbf371f778",
   "metadata": {},
   "outputs": [
    {
     "data": {
      "text/plain": [
       "0.055999999999999994"
      ]
     },
     "execution_count": 9,
     "metadata": {},
     "output_type": "execute_result"
    }
   ],
   "source": [
    "# Risk-free interest rate of 1 month US T-bill free rate on an annual basis\n",
    "r_year = 5.60 / 100\n",
    "r_year"
   ]
  },
  {
   "cell_type": "code",
   "execution_count": 10,
   "id": "11d7a3f2-64d8-406e-8b27-c3de28ed8566",
   "metadata": {},
   "outputs": [],
   "source": [
    "# Length of daily periods as a fraction of trading year (assuming 250 trading days per year)\n",
    "Delta_t = 1 / 250"
   ]
  },
  {
   "cell_type": "code",
   "execution_count": 11,
   "id": "75e98073-ae07-49a3-a0e9-d0fbe73105c1",
   "metadata": {},
   "outputs": [],
   "source": [
    "r_day = (1 + r_year)**Delta_t - 1"
   ]
  },
  {
   "cell_type": "code",
   "execution_count": 12,
   "id": "d922cc32-baea-43b3-8b15-7d04064c7e1b",
   "metadata": {},
   "outputs": [
    {
     "data": {
      "text/plain": [
       "0.0002179764945606788"
      ]
     },
     "execution_count": 12,
     "metadata": {},
     "output_type": "execute_result"
    }
   ],
   "source": [
    "# Risk-free interest rate on a daily basis\n",
    "r = r_day\n",
    "r"
   ]
  },
  {
   "cell_type": "code",
   "execution_count": 13,
   "id": "2fb52f19-e814-4ea6-aaa6-df45e26b7d76",
   "metadata": {},
   "outputs": [
    {
     "data": {
      "text/plain": [
       "1.017679465644525"
      ]
     },
     "execution_count": 13,
     "metadata": {},
     "output_type": "execute_result"
    }
   ],
   "source": [
    "# Up parameter\n",
    "u = np.exp(sigma * np.sqrt(Delta_t))\n",
    "u"
   ]
  },
  {
   "cell_type": "code",
   "execution_count": 14,
   "id": "36eb2d1e-ad5c-4da7-ad0f-50b8c83cbe47",
   "metadata": {},
   "outputs": [
    {
     "data": {
      "text/plain": [
       "0.9826276679039329"
      ]
     },
     "execution_count": 14,
     "metadata": {},
     "output_type": "execute_result"
    }
   ],
   "source": [
    "# Down parameter\n",
    "d = np.exp(-sigma * np.sqrt(Delta_t))\n",
    "d"
   ]
  },
  {
   "cell_type": "code",
   "execution_count": 15,
   "id": "66a417fb-51eb-4fb7-92a8-d9d86d84dc62",
   "metadata": {},
   "outputs": [
    {
     "data": {
      "text/plain": [
       "0.5018375582561687"
      ]
     },
     "execution_count": 15,
     "metadata": {},
     "output_type": "execute_result"
    }
   ],
   "source": [
    "# Risk-neutral probability measure parameter\n",
    "q = ((1 + r) - d) / (u - d)\n",
    "q"
   ]
  },
  {
   "cell_type": "code",
   "execution_count": 16,
   "id": "94e78f7d-356f-413e-ad6c-60798c5ec571",
   "metadata": {},
   "outputs": [
    {
     "name": "stdout",
     "output_type": "stream",
     "text": [
      "[*********************100%***********************]  1 of 1 completed\n"
     ]
    }
   ],
   "source": [
    "# GOOG stock price at date 2023-12-29\n",
    "S0 = (yf.download(['GOOG'], start='2023-12-29', end='2023-12-30')['Close'])"
   ]
  },
  {
   "cell_type": "code",
   "execution_count": 17,
   "id": "cd1dbe41-6263-473d-bb84-f5d3ed6f742a",
   "metadata": {},
   "outputs": [
    {
     "data": {
      "text/plain": [
       "Date\n",
       "2023-12-29    140.929993\n",
       "Name: Close, dtype: float64"
      ]
     },
     "execution_count": 17,
     "metadata": {},
     "output_type": "execute_result"
    }
   ],
   "source": [
    "S0"
   ]
  },
  {
   "cell_type": "code",
   "execution_count": 18,
   "id": "5d2a3f15-6427-4327-b76d-ca6b50f98c10",
   "metadata": {},
   "outputs": [
    {
     "data": {
      "image/png": "[encoded data removed]",
      "text/plain": [
       "<Figure size 700x400 with 1 Axes>"
      ]
     },
     "metadata": {},
     "output_type": "display_data"
    }
   ],
   "source": [
    "import matplotlib.pyplot as plt\n",
    "\n",
    "plt.figure(figsize=(7, 4))\n",
    "plt.title('GOOG stock price time series')\n",
    "plt.plot(hist_data,label='GOOG stock price',c='green')\n",
    "plt.xlabel('Date')\n",
    "plt.ylabel('Stock price')\n",
    "plt.savefig('goog_stock_price.png', dpi=300)"
   ]
  },
  {
   "cell_type": "code",
   "execution_count": null,
   "id": "2509f9cb-42ab-4b6a-8c12-10e997659cc1",
   "metadata": {},
   "outputs": [],
   "source": []
  }
 ],
 "metadata": {
  "kernelspec": {
   "display_name": "Python 3 (ipykernel)",
   "language": "python",
   "name": "python3"
  },
  "language_info": {
   "codemirror_mode": {
    "name": "ipython",
    "version": 3
   },
   "file_extension": ".py",
   "mimetype": "text/x-python",
   "name": "python",
   "nbconvert_exporter": "python",
   "pygments_lexer": "ipython3",
   "version": "3.10.11"
  }
 },
 "nbformat": 4,
 "nbformat_minor": 5
}
